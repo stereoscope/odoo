{
 "cells": [
  {
   "cell_type": "code",
   "id": "initial_id",
   "metadata": {
    "collapsed": true,
    "ExecuteTime": {
     "end_time": "2025-03-03T14:53:42.929637Z",
     "start_time": "2025-03-03T14:53:40.649748Z"
    }
   },
   "source": [
    "from anyio import sleep\n",
    "\n",
    "from odoo_kernel import start_odoo, shutdown_odoo\n",
    "env = start_odoo(path_to_config=\"..\")"
   ],
   "outputs": [
    {
     "name": "stdout",
     "output_type": "stream",
     "text": [
      "Current folder '/Users/fritz/Documents/Projekte/Odoo/odoo/notebooks': config is at '../odoo.conf'\n",
      "Odoo environment initialized. You can now run queries in separate cells.\n"
     ]
    }
   ],
   "execution_count": 2
  },
  {
   "metadata": {
    "ExecuteTime": {
     "end_time": "2025-03-03T15:13:34.121469Z",
     "start_time": "2025-03-03T15:13:34.105302Z"
    }
   },
   "cell_type": "code",
   "source": [
    "products = env['product.template'].search([])\n",
    "print(len(products))"
   ],
   "id": "446a82a6eab01ea7",
   "outputs": [
    {
     "ename": "NameError",
     "evalue": "name 'env' is not defined",
     "output_type": "error",
     "traceback": [
      "\u001B[0;31m---------------------------------------------------------------------------\u001B[0m",
      "\u001B[0;31mNameError\u001B[0m                                 Traceback (most recent call last)",
      "Cell \u001B[0;32mIn[2], line 1\u001B[0m\n\u001B[0;32m----> 1\u001B[0m products \u001B[38;5;241m=\u001B[39m \u001B[43menv\u001B[49m[\u001B[38;5;124m'\u001B[39m\u001B[38;5;124mproduct.template\u001B[39m\u001B[38;5;124m'\u001B[39m]\u001B[38;5;241m.\u001B[39msearch([])\n\u001B[1;32m      2\u001B[0m \u001B[38;5;28mprint\u001B[39m(\u001B[38;5;28mlen\u001B[39m(products))\n",
      "\u001B[0;31mNameError\u001B[0m: name 'env' is not defined"
     ]
    }
   ],
   "execution_count": 2
  },
  {
   "metadata": {
    "ExecuteTime": {
     "end_time": "2025-03-03T14:53:54.293287Z",
     "start_time": "2025-03-03T14:53:54.291176Z"
    }
   },
   "cell_type": "code",
   "source": "exit()",
   "id": "4fa6ff06b6a679b",
   "outputs": [],
   "execution_count": 5
  },
  {
   "metadata": {
    "ExecuteTime": {
     "end_time": "2025-03-03T14:53:49.973275Z",
     "start_time": "2025-03-03T14:53:49.961034Z"
    }
   },
   "cell_type": "code",
   "source": [
    "products = env['product.template'].search([])\n",
    "print(len(products))"
   ],
   "id": "39fceee23e34782a",
   "outputs": [
    {
     "name": "stdout",
     "output_type": "stream",
     "text": [
      "1367\n"
     ]
    }
   ],
   "execution_count": 4
  }
 ],
 "metadata": {
  "kernelspec": {
   "display_name": "Python 3 (ipykernel)",
   "language": "python",
   "name": "python3"
  },
  "language_info": {
   "codemirror_mode": {
    "name": "ipython",
    "version": 2
   },
   "file_extension": ".py",
   "mimetype": "text/x-python",
   "name": "python",
   "nbconvert_exporter": "python",
   "pygments_lexer": "ipython2",
   "version": "2.7.6"
  }
 },
 "nbformat": 4,
 "nbformat_minor": 5
}
